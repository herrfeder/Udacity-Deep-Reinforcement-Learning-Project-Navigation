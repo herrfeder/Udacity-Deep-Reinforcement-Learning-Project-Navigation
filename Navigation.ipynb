{
 "cells": [
  {
   "cell_type": "markdown",
   "metadata": {},
   "source": [
    "# Navigation\n",
    "\n",
    "---\n",
    "\n",
    "In this notebook, you will learn how to use the Unity ML-Agents environment for the first project of the [Deep Reinforcement Learning Nanodegree](https://www.udacity.com/course/deep-reinforcement-learning-nanodegree--nd893).\n",
    "\n",
    "### 1. Start the Environment\n",
    "\n",
    "We begin by importing some necessary packages.  If the code cell below returns an error, please revisit the project instructions to double-check that you have installed [Unity ML-Agents](https://github.com/Unity-Technologies/ml-agents/blob/master/docs/Installation.md) and [NumPy](http://www.numpy.org/)."
   ]
  },
  {
   "cell_type": "code",
   "execution_count": 1,
   "metadata": {
    "ExecuteTime": {
     "end_time": "2023-09-12T10:18:36.793034Z",
     "start_time": "2023-09-12T10:18:26.267534Z"
    }
   },
   "outputs": [
    {
     "name": "stdout",
     "output_type": "stream",
     "text": [
      "Requirement already satisfied: unityagents in /home/user/py36unity/lib/python3.6/site-packages (0.4.0)\n",
      "Requirement already satisfied: grpcio==1.11.0 in /home/user/py36unity/lib/python3.6/site-packages (from unityagents) (1.11.0)\n",
      "Requirement already satisfied: docopt in /home/user/py36unity/lib/python3.6/site-packages (from unityagents) (0.6.2)\n",
      "Requirement already satisfied: pyyaml in /home/user/py36unity/lib/python3.6/site-packages (from unityagents) (6.0.1)\n",
      "Requirement already satisfied: jupyter in /home/user/py36unity/lib/python3.6/site-packages (from unityagents) (1.0.0)\n",
      "Requirement already satisfied: pytest>=3.2.2 in /home/user/py36unity/lib/python3.6/site-packages (from unityagents) (7.0.1)\n",
      "Requirement already satisfied: Pillow>=4.2.1 in /home/user/py36unity/lib/python3.6/site-packages (from unityagents) (8.4.0)\n",
      "Requirement already satisfied: tensorflow==1.7.1 in /home/user/py36unity/lib/python3.6/site-packages (from unityagents) (1.7.1)\n",
      "Requirement already satisfied: numpy>=1.11.0 in /home/user/py36unity/lib/python3.6/site-packages (from unityagents) (1.19.5)\n",
      "Requirement already satisfied: matplotlib in /home/user/py36unity/lib/python3.6/site-packages (from unityagents) (3.3.4)\n",
      "Requirement already satisfied: protobuf==3.5.2 in /home/user/py36unity/lib/python3.6/site-packages (from unityagents) (3.5.2)\n",
      "Requirement already satisfied: six>=1.5.2 in /home/user/py36unity/lib/python3.6/site-packages (from grpcio==1.11.0->unityagents) (1.16.0)\n",
      "Requirement already satisfied: ipykernel in /home/user/py36unity/lib/python3.6/site-packages (from jupyter->unityagents) (5.5.6)\n",
      "Requirement already satisfied: notebook in /home/user/py36unity/lib/python3.6/site-packages (from jupyter->unityagents) (6.4.10)\n",
      "Requirement already satisfied: ipywidgets in /home/user/py36unity/lib/python3.6/site-packages (from jupyter->unityagents) (7.8.0)\n",
      "Requirement already satisfied: jupyter-console in /home/user/py36unity/lib/python3.6/site-packages (from jupyter->unityagents) (6.4.3)\n",
      "Requirement already satisfied: nbconvert in /home/user/py36unity/lib/python3.6/site-packages (from jupyter->unityagents) (6.0.7)\n",
      "Requirement already satisfied: qtconsole in /home/user/py36unity/lib/python3.6/site-packages (from jupyter->unityagents) (5.2.2)\n",
      "Requirement already satisfied: packaging in /home/user/py36unity/lib/python3.6/site-packages (from pytest>=3.2.2->unityagents) (21.3)\n",
      "Requirement already satisfied: tomli>=1.0.0 in /home/user/py36unity/lib/python3.6/site-packages (from pytest>=3.2.2->unityagents) (1.2.3)\n",
      "Requirement already satisfied: attrs>=19.2.0 in /home/user/py36unity/lib/python3.6/site-packages (from pytest>=3.2.2->unityagents) (22.2.0)\n",
      "Requirement already satisfied: importlib-metadata>=0.12; python_version < \"3.8\" in /home/user/py36unity/lib/python3.6/site-packages (from pytest>=3.2.2->unityagents) (4.8.3)\n",
      "Requirement already satisfied: py>=1.8.2 in /home/user/py36unity/lib/python3.6/site-packages (from pytest>=3.2.2->unityagents) (1.11.0)\n",
      "Requirement already satisfied: pluggy<2.0,>=0.12 in /home/user/py36unity/lib/python3.6/site-packages (from pytest>=3.2.2->unityagents) (1.0.0)\n",
      "Requirement already satisfied: iniconfig in /home/user/py36unity/lib/python3.6/site-packages (from pytest>=3.2.2->unityagents) (1.1.1)\n",
      "Requirement already satisfied: wheel>=0.26 in /home/user/py36unity/lib/python3.6/site-packages (from tensorflow==1.7.1->unityagents) (0.34.2)\n",
      "Requirement already satisfied: termcolor>=1.1.0 in /home/user/py36unity/lib/python3.6/site-packages (from tensorflow==1.7.1->unityagents) (1.1.0)\n",
      "Requirement already satisfied: gast>=0.2.0 in /home/user/py36unity/lib/python3.6/site-packages (from tensorflow==1.7.1->unityagents) (0.5.4)\n",
      "Requirement already satisfied: astor>=0.6.0 in /home/user/py36unity/lib/python3.6/site-packages (from tensorflow==1.7.1->unityagents) (0.8.1)\n",
      "Requirement already satisfied: tensorboard<1.8.0,>=1.7.0 in /home/user/py36unity/lib/python3.6/site-packages (from tensorflow==1.7.1->unityagents) (1.7.0)\n",
      "Requirement already satisfied: absl-py>=0.1.6 in /home/user/py36unity/lib/python3.6/site-packages (from tensorflow==1.7.1->unityagents) (1.4.0)\n",
      "Requirement already satisfied: cycler>=0.10 in /home/user/py36unity/lib/python3.6/site-packages (from matplotlib->unityagents) (0.11.0)\n",
      "Requirement already satisfied: kiwisolver>=1.0.1 in /home/user/py36unity/lib/python3.6/site-packages (from matplotlib->unityagents) (1.3.1)\n",
      "Requirement already satisfied: python-dateutil>=2.1 in /home/user/py36unity/lib/python3.6/site-packages (from matplotlib->unityagents) (2.8.2)\n",
      "Requirement already satisfied: pyparsing!=2.0.4,!=2.1.2,!=2.1.6,>=2.0.3 in /home/user/py36unity/lib/python3.6/site-packages (from matplotlib->unityagents) (3.1.1)\n",
      "Requirement already satisfied: setuptools in /home/user/py36unity/lib/python3.6/site-packages (from protobuf==3.5.2->unityagents) (44.0.0)\n",
      "Requirement already satisfied: jupyter-client in /home/user/py36unity/lib/python3.6/site-packages (from ipykernel->jupyter->unityagents) (7.1.2)\n",
      "Requirement already satisfied: tornado>=4.2 in /home/user/py36unity/lib/python3.6/site-packages (from ipykernel->jupyter->unityagents) (6.1)\n",
      "Requirement already satisfied: traitlets>=4.1.0 in /home/user/py36unity/lib/python3.6/site-packages (from ipykernel->jupyter->unityagents) (4.3.3)\n",
      "Requirement already satisfied: ipython-genutils in /home/user/py36unity/lib/python3.6/site-packages (from ipykernel->jupyter->unityagents) (0.2.0)\n",
      "Requirement already satisfied: ipython>=5.0.0 in /home/user/py36unity/lib/python3.6/site-packages (from ipykernel->jupyter->unityagents) (7.16.3)\n",
      "Requirement already satisfied: argon2-cffi in /home/user/py36unity/lib/python3.6/site-packages (from notebook->jupyter->unityagents) (21.3.0)\n",
      "Requirement already satisfied: jinja2 in /home/user/py36unity/lib/python3.6/site-packages (from notebook->jupyter->unityagents) (3.0.3)\n",
      "Requirement already satisfied: nest-asyncio>=1.5 in /home/user/py36unity/lib/python3.6/site-packages (from notebook->jupyter->unityagents) (1.5.7)\n",
      "Requirement already satisfied: Send2Trash>=1.8.0 in /home/user/py36unity/lib/python3.6/site-packages (from notebook->jupyter->unityagents) (1.8.2)\n",
      "Requirement already satisfied: prometheus-client in /home/user/py36unity/lib/python3.6/site-packages (from notebook->jupyter->unityagents) (0.17.1)\n",
      "Requirement already satisfied: pyzmq>=17 in /home/user/py36unity/lib/python3.6/site-packages (from notebook->jupyter->unityagents) (25.1.1)\n",
      "Requirement already satisfied: jupyter-core>=4.6.1 in /home/user/py36unity/lib/python3.6/site-packages (from notebook->jupyter->unityagents) (4.9.2)\n",
      "Requirement already satisfied: nbformat in /home/user/py36unity/lib/python3.6/site-packages (from notebook->jupyter->unityagents) (5.1.3)\n",
      "Requirement already satisfied: terminado>=0.8.3 in /home/user/py36unity/lib/python3.6/site-packages (from notebook->jupyter->unityagents) (0.12.1)\n",
      "Requirement already satisfied: comm>=0.1.3 in /home/user/py36unity/lib/python3.6/site-packages (from ipywidgets->jupyter->unityagents) (0.1.4)\n",
      "Requirement already satisfied: jupyterlab-widgets<3,>=1.0.0; python_version >= \"3.6\" in /home/user/py36unity/lib/python3.6/site-packages (from ipywidgets->jupyter->unityagents) (1.1.5)\n",
      "Requirement already satisfied: widgetsnbextension~=3.6.5 in /home/user/py36unity/lib/python3.6/site-packages (from ipywidgets->jupyter->unityagents) (3.6.5)\n",
      "Requirement already satisfied: pygments in /home/user/py36unity/lib/python3.6/site-packages (from jupyter-console->jupyter->unityagents) (2.14.0)\n",
      "Requirement already satisfied: prompt-toolkit!=3.0.0,!=3.0.1,<3.1.0,>=2.0.0 in /home/user/py36unity/lib/python3.6/site-packages (from jupyter-console->jupyter->unityagents) (3.0.36)\n",
      "Requirement already satisfied: entrypoints>=0.2.2 in /home/user/py36unity/lib/python3.6/site-packages (from nbconvert->jupyter->unityagents) (0.4)\n",
      "Requirement already satisfied: bleach in /home/user/py36unity/lib/python3.6/site-packages (from nbconvert->jupyter->unityagents) (1.5.0)\n",
      "Requirement already satisfied: testpath in /home/user/py36unity/lib/python3.6/site-packages (from nbconvert->jupyter->unityagents) (0.6.0)\n",
      "Requirement already satisfied: mistune<2,>=0.8.1 in /home/user/py36unity/lib/python3.6/site-packages (from nbconvert->jupyter->unityagents) (0.8.4)\n",
      "Requirement already satisfied: pandocfilters>=1.4.1 in /home/user/py36unity/lib/python3.6/site-packages (from nbconvert->jupyter->unityagents) (1.5.0)\n",
      "Requirement already satisfied: nbclient<0.6.0,>=0.5.0 in /home/user/py36unity/lib/python3.6/site-packages (from nbconvert->jupyter->unityagents) (0.5.9)\n",
      "Requirement already satisfied: defusedxml in /home/user/py36unity/lib/python3.6/site-packages (from nbconvert->jupyter->unityagents) (0.7.1)\n"
     ]
    },
    {
     "name": "stdout",
     "output_type": "stream",
     "text": [
      "Requirement already satisfied: jupyterlab-pygments in /home/user/py36unity/lib/python3.6/site-packages (from nbconvert->jupyter->unityagents) (0.1.2)\n",
      "Requirement already satisfied: qtpy in /home/user/py36unity/lib/python3.6/site-packages (from qtconsole->jupyter->unityagents) (2.0.1)\n",
      "Requirement already satisfied: zipp>=0.5 in /home/user/py36unity/lib/python3.6/site-packages (from importlib-metadata>=0.12; python_version < \"3.8\"->pytest>=3.2.2->unityagents) (3.6.0)\n",
      "Requirement already satisfied: typing-extensions>=3.6.4; python_version < \"3.8\" in /home/user/py36unity/lib/python3.6/site-packages (from importlib-metadata>=0.12; python_version < \"3.8\"->pytest>=3.2.2->unityagents) (4.1.1)\n",
      "Requirement already satisfied: markdown>=2.6.8 in /home/user/py36unity/lib/python3.6/site-packages (from tensorboard<1.8.0,>=1.7.0->tensorflow==1.7.1->unityagents) (3.3.7)\n",
      "Requirement already satisfied: html5lib==0.9999999 in /home/user/py36unity/lib/python3.6/site-packages (from tensorboard<1.8.0,>=1.7.0->tensorflow==1.7.1->unityagents) (0.9999999)\n",
      "Requirement already satisfied: werkzeug>=0.11.10 in /home/user/py36unity/lib/python3.6/site-packages (from tensorboard<1.8.0,>=1.7.0->tensorflow==1.7.1->unityagents) (2.0.3)\n",
      "Requirement already satisfied: decorator in /home/user/py36unity/lib/python3.6/site-packages (from traitlets>=4.1.0->ipykernel->jupyter->unityagents) (5.1.1)\n",
      "Requirement already satisfied: pickleshare in /home/user/py36unity/lib/python3.6/site-packages (from ipython>=5.0.0->ipykernel->jupyter->unityagents) (0.7.5)\n",
      "Requirement already satisfied: pexpect; sys_platform != \"win32\" in /home/user/py36unity/lib/python3.6/site-packages (from ipython>=5.0.0->ipykernel->jupyter->unityagents) (4.8.0)\n",
      "Requirement already satisfied: jedi<=0.17.2,>=0.10 in /home/user/py36unity/lib/python3.6/site-packages (from ipython>=5.0.0->ipykernel->jupyter->unityagents) (0.17.2)\n",
      "Requirement already satisfied: backcall in /home/user/py36unity/lib/python3.6/site-packages (from ipython>=5.0.0->ipykernel->jupyter->unityagents) (0.2.0)\n",
      "Requirement already satisfied: argon2-cffi-bindings in /home/user/py36unity/lib/python3.6/site-packages (from argon2-cffi->notebook->jupyter->unityagents) (21.2.0)\n",
      "Requirement already satisfied: dataclasses; python_version < \"3.7\" in /home/user/py36unity/lib/python3.6/site-packages (from argon2-cffi->notebook->jupyter->unityagents) (0.8)\n",
      "Requirement already satisfied: MarkupSafe>=2.0 in /home/user/py36unity/lib/python3.6/site-packages (from jinja2->notebook->jupyter->unityagents) (2.0.1)\n",
      "Requirement already satisfied: jsonschema!=2.5.0,>=2.4 in /home/user/py36unity/lib/python3.6/site-packages (from nbformat->notebook->jupyter->unityagents) (3.2.0)\n",
      "Requirement already satisfied: ptyprocess; os_name != \"nt\" in /home/user/py36unity/lib/python3.6/site-packages (from terminado>=0.8.3->notebook->jupyter->unityagents) (0.7.0)\n",
      "Requirement already satisfied: wcwidth in /home/user/py36unity/lib/python3.6/site-packages (from prompt-toolkit!=3.0.0,!=3.0.1,<3.1.0,>=2.0.0->jupyter-console->jupyter->unityagents) (0.2.6)\n",
      "Requirement already satisfied: async-generator; python_version < \"3.7\" in /home/user/py36unity/lib/python3.6/site-packages (from nbclient<0.6.0,>=0.5.0->nbconvert->jupyter->unityagents) (1.10)\n",
      "Requirement already satisfied: parso<0.8.0,>=0.7.0 in /home/user/py36unity/lib/python3.6/site-packages (from jedi<=0.17.2,>=0.10->ipython>=5.0.0->ipykernel->jupyter->unityagents) (0.7.1)\n",
      "Requirement already satisfied: cffi>=1.0.1 in /home/user/py36unity/lib/python3.6/site-packages (from argon2-cffi-bindings->argon2-cffi->notebook->jupyter->unityagents) (1.15.1)\n",
      "Requirement already satisfied: pyrsistent>=0.14.0 in /home/user/py36unity/lib/python3.6/site-packages (from jsonschema!=2.5.0,>=2.4->nbformat->notebook->jupyter->unityagents) (0.18.0)\n",
      "Requirement already satisfied: pycparser in /home/user/py36unity/lib/python3.6/site-packages (from cffi>=1.0.1->argon2-cffi-bindings->argon2-cffi->notebook->jupyter->unityagents) (2.21)\n"
     ]
    }
   ],
   "source": [
    "!pip install unityagents"
   ]
  },
  {
   "cell_type": "code",
   "execution_count": 2,
   "metadata": {
    "ExecuteTime": {
     "end_time": "2023-09-12T10:18:36.893087Z",
     "start_time": "2023-09-12T10:18:36.801530Z"
    }
   },
   "outputs": [],
   "source": [
    "from unityagents import UnityEnvironment\n",
    "import numpy as np"
   ]
  },
  {
   "cell_type": "markdown",
   "metadata": {},
   "source": [
    "Next, we will start the environment!  **_Before running the code cell below_**, change the `file_name` parameter to match the location of the Unity environment that you downloaded.\n",
    "\n",
    "- **Mac**: `\"path/to/Banana.app\"`\n",
    "- **Windows** (x86): `\"path/to/Banana_Windows_x86/Banana.exe\"`\n",
    "- **Windows** (x86_64): `\"path/to/Banana_Windows_x86_64/Banana.exe\"`\n",
    "- **Linux** (x86): `\"path/to/Banana_Linux/Banana.x86\"`\n",
    "- **Linux** (x86_64): `\"path/to/Banana_Linux/Banana.x86_64\"`\n",
    "- **Linux** (x86, headless): `\"path/to/Banana_Linux_NoVis/Banana.x86\"`\n",
    "- **Linux** (x86_64, headless): `\"path/to/Banana_Linux_NoVis/Banana.x86_64\"`\n",
    "\n",
    "For instance, if you are using a Mac, then you downloaded `Banana.app`.  If this file is in the same folder as the notebook, then the line below should appear as follows:\n",
    "```\n",
    "env = UnityEnvironment(file_name=\"Banana.app\")\n",
    "```"
   ]
  },
  {
   "cell_type": "code",
   "execution_count": 3,
   "metadata": {
    "ExecuteTime": {
     "end_time": "2023-09-12T10:18:44.039880Z",
     "start_time": "2023-09-12T10:18:40.363544Z"
    }
   },
   "outputs": [
    {
     "name": "stderr",
     "output_type": "stream",
     "text": [
      "INFO:unityagents:\n",
      "'Academy' started successfully!\n",
      "Unity Academy name: Academy\n",
      "        Number of Brains: 1\n",
      "        Number of External Brains : 1\n",
      "        Lesson number : 0\n",
      "        Reset Parameters :\n",
      "\t\t\n",
      "Unity brain name: BananaBrain\n",
      "        Number of Visual Observations (per agent): 0\n",
      "        Vector Observation space type: continuous\n",
      "        Vector Observation space size (per agent): 37\n",
      "        Number of stacked Vector Observation: 1\n",
      "        Vector Action space type: discrete\n",
      "        Vector Action space size (per agent): 4\n",
      "        Vector Action descriptions: , , , \n"
     ]
    }
   ],
   "source": [
    "env = UnityEnvironment(file_name=\"Banana_Linux/Banana.x86_64\")"
   ]
  },
  {
   "cell_type": "markdown",
   "metadata": {},
   "source": [
    "Environments contain **_brains_** which are responsible for deciding the actions of their associated agents. Here we check for the first brain available, and set it as the default brain we will be controlling from Python."
   ]
  },
  {
   "cell_type": "code",
   "execution_count": 4,
   "metadata": {
    "ExecuteTime": {
     "end_time": "2023-09-12T10:18:47.799567Z",
     "start_time": "2023-09-12T10:18:47.776811Z"
    }
   },
   "outputs": [],
   "source": [
    "# get the default brain\n",
    "brain_name = env.brain_names[0]\n",
    "brain = env.brains[brain_name]"
   ]
  },
  {
   "cell_type": "markdown",
   "metadata": {},
   "source": [
    "### 2. Examine the State and Action Spaces\n",
    "\n",
    "The simulation contains a single agent that navigates a large environment.  At each time step, it has four actions at its disposal:\n",
    "- `0` - walk forward \n",
    "- `1` - walk backward\n",
    "- `2` - turn left\n",
    "- `3` - turn right\n",
    "\n",
    "The state space has `37` dimensions and contains the agent's velocity, along with ray-based perception of objects around agent's forward direction.  A reward of `+1` is provided for collecting a yellow banana, and a reward of `-1` is provided for collecting a blue banana. \n",
    "\n",
    "Run the code cell below to print some information about the environment."
   ]
  },
  {
   "cell_type": "code",
   "execution_count": 5,
   "metadata": {},
   "outputs": [
    {
     "name": "stdout",
     "output_type": "stream",
     "text": [
      "Number of agents: 1\n",
      "Number of actions: 4\n",
      "States look like: [1.         0.         0.         0.         0.84408134 0.\n",
      " 0.         1.         0.         0.0748472  0.         1.\n",
      " 0.         0.         0.25755    1.         0.         0.\n",
      " 0.         0.74177343 0.         1.         0.         0.\n",
      " 0.25854847 0.         0.         1.         0.         0.09355672\n",
      " 0.         1.         0.         0.         0.31969345 0.\n",
      " 0.        ]\n",
      "States have length: 37\n"
     ]
    }
   ],
   "source": [
    "# reset the environment\n",
    "env_info = env.reset(train_mode=True)[brain_name]\n",
    "\n",
    "# number of agents in the environment\n",
    "print('Number of agents:', len(env_info.agents))\n",
    "\n",
    "# number of actions\n",
    "action_size = brain.vector_action_space_size\n",
    "print('Number of actions:', action_size)\n",
    "\n",
    "# examine the state space \n",
    "state = env_info.vector_observations[0]\n",
    "print('States look like:', state)\n",
    "state_size = len(state)\n",
    "print('States have length:', state_size)"
   ]
  },
  {
   "cell_type": "markdown",
   "metadata": {},
   "source": [
    "### 3. Take Random Actions in the Environment\n",
    "\n",
    "In the next code cell, you will learn how to use the Python API to control the agent and receive feedback from the environment.\n",
    "\n",
    "Once this cell is executed, you will watch the agent's performance, if it selects an action (uniformly) at random with each time step.  A window should pop up that allows you to observe the agent, as it moves through the environment.  \n",
    "\n",
    "Of course, as part of the project, you'll have to change the code so that the agent is able to use its experience to gradually choose better actions when interacting with the environment!"
   ]
  },
  {
   "cell_type": "code",
   "execution_count": 6,
   "metadata": {},
   "outputs": [
    {
     "name": "stdout",
     "output_type": "stream",
     "text": [
      "Score: 0.0\n"
     ]
    }
   ],
   "source": [
    "env_info = env.reset(train_mode=False)[brain_name] # reset the environment\n",
    "state = env_info.vector_observations[0]            # get the current state\n",
    "score = 0                                          # initialize the score\n",
    "while True:\n",
    "    action = np.random.randint(action_size)        # select an action\n",
    "    env_info = env.step(action)[brain_name]        # send the action to the environment\n",
    "    next_state = env_info.vector_observations[0]   # get the next state\n",
    "    reward = env_info.rewards[0]                   # get the reward\n",
    "    done = env_info.local_done[0]                  # see if episode has finished\n",
    "    score += reward                                # update the score\n",
    "    state = next_state                             # roll over the state to next time step\n",
    "    if done:                                       # exit loop if episode finished\n",
    "        break\n",
    "    \n",
    "print(\"Score: {}\".format(score))"
   ]
  },
  {
   "cell_type": "markdown",
   "metadata": {},
   "source": [
    "When finished, you can close the environment."
   ]
  },
  {
   "cell_type": "code",
   "execution_count": 7,
   "metadata": {},
   "outputs": [],
   "source": [
    "env.close()"
   ]
  },
  {
   "cell_type": "markdown",
   "metadata": {},
   "source": [
    "### 4. It's Your Turn!\n",
    "\n",
    "Now it's your turn to train your own agent to solve the environment!  When training the environment, set `train_mode=True`, so that the line for resetting the environment looks like the following:\n",
    "```python\n",
    "env_info = env.reset(train_mode=True)[brain_name]\n",
    "```"
   ]
  },
  {
   "cell_type": "code",
   "execution_count": 1,
   "metadata": {},
   "outputs": [],
   "source": [
    "from unityagents import UnityEnvironment\n",
    "from collections import deque\n",
    "import numpy as np\n",
    "from matplotlib import pyplot as plt"
   ]
  },
  {
   "cell_type": "code",
   "execution_count": 2,
   "metadata": {},
   "outputs": [
    {
     "ename": "NameError",
     "evalue": "name 'env' is not defined",
     "output_type": "error",
     "traceback": [
      "\u001b[0;31m---------------------------------------------------------------------------\u001b[0m",
      "\u001b[0;31mNameError\u001b[0m                                 Traceback (most recent call last)",
      "\u001b[0;32m<ipython-input-2-2d8709ea5266>\u001b[0m in \u001b[0;36m<module>\u001b[0;34m\u001b[0m\n\u001b[0;32m----> 1\u001b[0;31m \u001b[0menv_info\u001b[0m \u001b[0;34m=\u001b[0m \u001b[0menv\u001b[0m\u001b[0;34m.\u001b[0m\u001b[0mreset\u001b[0m\u001b[0;34m(\u001b[0m\u001b[0mtrain_mode\u001b[0m\u001b[0;34m=\u001b[0m\u001b[0;32mTrue\u001b[0m\u001b[0;34m)\u001b[0m\u001b[0;34m[\u001b[0m\u001b[0mbrain_name\u001b[0m\u001b[0;34m]\u001b[0m\u001b[0;34m\u001b[0m\u001b[0;34m\u001b[0m\u001b[0m\n\u001b[0m",
      "\u001b[0;31mNameError\u001b[0m: name 'env' is not defined"
     ]
    }
   ],
   "source": [
    "env_info = env.reset(train_mode=True)[brain_name]"
   ]
  },
  {
   "cell_type": "code",
   "execution_count": 3,
   "metadata": {},
   "outputs": [
    {
     "name": "stderr",
     "output_type": "stream",
     "text": [
      "INFO:unityagents:\n",
      "'Academy' started successfully!\n",
      "Unity Academy name: Academy\n",
      "        Number of Brains: 1\n",
      "        Number of External Brains : 1\n",
      "        Lesson number : 0\n",
      "        Reset Parameters :\n",
      "\t\t\n",
      "Unity brain name: BananaBrain\n",
      "        Number of Visual Observations (per agent): 0\n",
      "        Vector Observation space type: continuous\n",
      "        Vector Observation space size (per agent): 37\n",
      "        Number of stacked Vector Observation: 1\n",
      "        Vector Action space type: discrete\n",
      "        Vector Action space size (per agent): 4\n",
      "        Vector Action descriptions: , , , \n"
     ]
    }
   ],
   "source": [
    "env = UnityEnvironment(file_name=\"Banana_Linux/Banana.x86_64\")\n",
    "brain_name = env.brain_names[0]\n",
    "brain = env.brains[brain_name]"
   ]
  },
  {
   "cell_type": "code",
   "execution_count": 4,
   "metadata": {},
   "outputs": [],
   "source": [
    "from dqn_agent import Agent\n",
    "\n",
    "action_size = brain.vector_action_space_size\n",
    "state_size = brain.vector_observation_space_size\n",
    "\n",
    "agent = Agent(state_size=state_size, action_size=action_size, seed=0)"
   ]
  },
  {
   "cell_type": "code",
   "execution_count": 5,
   "metadata": {},
   "outputs": [
    {
     "name": "stdout",
     "output_type": "stream",
     "text": [
      "Episode 100\tAverage Score: 2.71\n",
      "Episode 200\tAverage Score: 135.21\n",
      "\n",
      "Environment solved in 119 episodes!\tAverage Score: 200.96\n"
     ]
    },
    {
     "ename": "NameError",
     "evalue": "name 'torch' is not defined",
     "output_type": "error",
     "traceback": [
      "\u001b[0;31m---------------------------------------------------------------------------\u001b[0m",
      "\u001b[0;31mNameError\u001b[0m                                 Traceback (most recent call last)",
      "\u001b[0;32m<ipython-input-5-d59649807714>\u001b[0m in \u001b[0;36m<module>\u001b[0;34m\u001b[0m\n\u001b[1;32m     39\u001b[0m     \u001b[0;32mreturn\u001b[0m \u001b[0mscores\u001b[0m\u001b[0;34m\u001b[0m\u001b[0;34m\u001b[0m\u001b[0m\n\u001b[1;32m     40\u001b[0m \u001b[0;34m\u001b[0m\u001b[0m\n\u001b[0;32m---> 41\u001b[0;31m \u001b[0mscores\u001b[0m \u001b[0;34m=\u001b[0m \u001b[0mdqn\u001b[0m\u001b[0;34m(\u001b[0m\u001b[0;34m)\u001b[0m\u001b[0;34m\u001b[0m\u001b[0;34m\u001b[0m\u001b[0m\n\u001b[0m",
      "\u001b[0;32m<ipython-input-5-d59649807714>\u001b[0m in \u001b[0;36mdqn\u001b[0;34m(n_episodes, max_t, eps_start, eps_end, eps_decay)\u001b[0m\n\u001b[1;32m     35\u001b[0m         \u001b[0;32mif\u001b[0m \u001b[0mnp\u001b[0m\u001b[0;34m.\u001b[0m\u001b[0mmean\u001b[0m\u001b[0;34m(\u001b[0m\u001b[0mscores_window\u001b[0m\u001b[0;34m)\u001b[0m\u001b[0;34m>=\u001b[0m\u001b[0;36m200.0\u001b[0m\u001b[0;34m:\u001b[0m\u001b[0;34m\u001b[0m\u001b[0;34m\u001b[0m\u001b[0m\n\u001b[1;32m     36\u001b[0m             \u001b[0mprint\u001b[0m\u001b[0;34m(\u001b[0m\u001b[0;34m'\\nEnvironment solved in {:d} episodes!\\tAverage Score: {:.2f}'\u001b[0m\u001b[0;34m.\u001b[0m\u001b[0mformat\u001b[0m\u001b[0;34m(\u001b[0m\u001b[0mi_episode\u001b[0m\u001b[0;34m-\u001b[0m\u001b[0;36m100\u001b[0m\u001b[0;34m,\u001b[0m \u001b[0mnp\u001b[0m\u001b[0;34m.\u001b[0m\u001b[0mmean\u001b[0m\u001b[0;34m(\u001b[0m\u001b[0mscores_window\u001b[0m\u001b[0;34m)\u001b[0m\u001b[0;34m)\u001b[0m\u001b[0;34m)\u001b[0m\u001b[0;34m\u001b[0m\u001b[0;34m\u001b[0m\u001b[0m\n\u001b[0;32m---> 37\u001b[0;31m             \u001b[0mtorch\u001b[0m\u001b[0;34m.\u001b[0m\u001b[0msave\u001b[0m\u001b[0;34m(\u001b[0m\u001b[0magent\u001b[0m\u001b[0;34m.\u001b[0m\u001b[0mqnetwork_local\u001b[0m\u001b[0;34m.\u001b[0m\u001b[0mstate_dict\u001b[0m\u001b[0;34m(\u001b[0m\u001b[0;34m)\u001b[0m\u001b[0;34m,\u001b[0m \u001b[0;34m'checkpoint.pth'\u001b[0m\u001b[0;34m)\u001b[0m\u001b[0;34m\u001b[0m\u001b[0;34m\u001b[0m\u001b[0m\n\u001b[0m\u001b[1;32m     38\u001b[0m             \u001b[0;32mbreak\u001b[0m\u001b[0;34m\u001b[0m\u001b[0;34m\u001b[0m\u001b[0m\n\u001b[1;32m     39\u001b[0m     \u001b[0;32mreturn\u001b[0m \u001b[0mscores\u001b[0m\u001b[0;34m\u001b[0m\u001b[0;34m\u001b[0m\u001b[0m\n",
      "\u001b[0;31mNameError\u001b[0m: name 'torch' is not defined"
     ]
    }
   ],
   "source": [
    "def dqn(n_episodes=5000, max_t=1000, eps_start=1.0, eps_end=0.01, eps_decay=0.995):\n",
    "    \"\"\"Deep Q-Learning.\n",
    "    \n",
    "    Params\n",
    "    ======\n",
    "        n_episodes (int): maximum number of training episodes\n",
    "        max_t (int): maximum number of timesteps per episode\n",
    "        eps_start (float): starting value of epsilon, for epsilon-greedy action selection\n",
    "        eps_end (float): minimum value of epsilon\n",
    "        eps_decay (float): multiplicative factor (per episode) for decreasing epsilon\n",
    "    \"\"\"\n",
    "    scores = []                        # list containing scores from each episode\n",
    "    scores_window = deque(maxlen=100)  # last 100 scores\n",
    "    eps = eps_start                    # initialize epsilon\n",
    "    score = 0\n",
    "    for i_episode in range(1, n_episodes+1):\n",
    "        state = env.reset()\n",
    "        state = state[\"BananaBrain\"].vector_observations\n",
    "        for t in range(max_t):\n",
    "            action = agent.act(state, eps)\n",
    "            env_info = env.step(action)[brain_name]\n",
    "            next_state = env_info.vector_observations[0]\n",
    "            reward = env_info.rewards[0]\n",
    "            done = env_info.local_done[0]\n",
    "            agent.step(state, action, reward, next_state, done)\n",
    "            state = next_state\n",
    "            score += reward\n",
    "            if done:\n",
    "                break \n",
    "        scores_window.append(score)       # save most recent score\n",
    "        scores.append(score)              # save most recent score\n",
    "        eps = max(eps_end, eps_decay*eps) # decrease epsilon\n",
    "        if i_episode % 100 == 0:\n",
    "            print('\\rEpisode {}\\tAverage Score: {:.2f}'.format(i_episode, np.mean(scores_window)))\n",
    "        if np.mean(scores_window)>=200.0:\n",
    "            print('\\nEnvironment solved in {:d} episodes!\\tAverage Score: {:.2f}'.format(i_episode-100, np.mean(scores_window)))\n",
    "            torch.save(agent.qnetwork_local.state_dict(), 'checkpoint.pth')\n",
    "            break\n",
    "    return scores\n",
    "\n",
    "scores = dqn()\n"
   ]
  },
  {
   "cell_type": "code",
   "execution_count": 6,
   "metadata": {},
   "outputs": [
    {
     "ename": "NameError",
     "evalue": "name 'scores' is not defined",
     "output_type": "error",
     "traceback": [
      "\u001b[0;31m---------------------------------------------------------------------------\u001b[0m",
      "\u001b[0;31mNameError\u001b[0m                                 Traceback (most recent call last)",
      "\u001b[0;32m<ipython-input-6-c6a6ca0371c3>\u001b[0m in \u001b[0;36m<module>\u001b[0;34m\u001b[0m\n\u001b[1;32m      2\u001b[0m \u001b[0mfig\u001b[0m \u001b[0;34m=\u001b[0m \u001b[0mplt\u001b[0m\u001b[0;34m.\u001b[0m\u001b[0mfigure\u001b[0m\u001b[0;34m(\u001b[0m\u001b[0;34m)\u001b[0m\u001b[0;34m\u001b[0m\u001b[0;34m\u001b[0m\u001b[0m\n\u001b[1;32m      3\u001b[0m \u001b[0max\u001b[0m \u001b[0;34m=\u001b[0m \u001b[0mfig\u001b[0m\u001b[0;34m.\u001b[0m\u001b[0madd_subplot\u001b[0m\u001b[0;34m(\u001b[0m\u001b[0;36m111\u001b[0m\u001b[0;34m)\u001b[0m\u001b[0;34m\u001b[0m\u001b[0;34m\u001b[0m\u001b[0m\n\u001b[0;32m----> 4\u001b[0;31m \u001b[0mplt\u001b[0m\u001b[0;34m.\u001b[0m\u001b[0mplot\u001b[0m\u001b[0;34m(\u001b[0m\u001b[0mnp\u001b[0m\u001b[0;34m.\u001b[0m\u001b[0marange\u001b[0m\u001b[0;34m(\u001b[0m\u001b[0mlen\u001b[0m\u001b[0;34m(\u001b[0m\u001b[0mscores\u001b[0m\u001b[0;34m)\u001b[0m\u001b[0;34m)\u001b[0m\u001b[0;34m,\u001b[0m \u001b[0mscores\u001b[0m\u001b[0;34m)\u001b[0m\u001b[0;34m\u001b[0m\u001b[0;34m\u001b[0m\u001b[0m\n\u001b[0m\u001b[1;32m      5\u001b[0m \u001b[0mplt\u001b[0m\u001b[0;34m.\u001b[0m\u001b[0mylabel\u001b[0m\u001b[0;34m(\u001b[0m\u001b[0;34m'Score'\u001b[0m\u001b[0;34m)\u001b[0m\u001b[0;34m\u001b[0m\u001b[0;34m\u001b[0m\u001b[0m\n\u001b[1;32m      6\u001b[0m \u001b[0mplt\u001b[0m\u001b[0;34m.\u001b[0m\u001b[0mxlabel\u001b[0m\u001b[0;34m(\u001b[0m\u001b[0;34m'Episode #'\u001b[0m\u001b[0;34m)\u001b[0m\u001b[0;34m\u001b[0m\u001b[0;34m\u001b[0m\u001b[0m\n",
      "\u001b[0;31mNameError\u001b[0m: name 'scores' is not defined"
     ]
    },
    {
     "data": {
      "image/png": "[encoded data removed]",
      "text/plain": [
       "<Figure size 432x288 with 1 Axes>"
      ]
     },
     "metadata": {
      "needs_background": "light"
     },
     "output_type": "display_data"
    }
   ],
   "source": [
    "# plot the scores\n",
    "fig = plt.figure()\n",
    "ax = fig.add_subplot(111)\n",
    "plt.plot(np.arange(len(scores)), scores)\n",
    "plt.ylabel('Score')\n",
    "plt.xlabel('Episode #')\n",
    "plt.show()"
   ]
  },
  {
   "cell_type": "code",
   "execution_count": 9,
   "metadata": {},
   "outputs": [
    {
     "ename": "NameError",
     "evalue": "name 'state' is not defined",
     "output_type": "error",
     "traceback": [
      "\u001b[0;31m---------------------------------------------------------------------------\u001b[0m",
      "\u001b[0;31mNameError\u001b[0m                                 Traceback (most recent call last)",
      "\u001b[0;32m<ipython-input-9-49897ab0d009>\u001b[0m in \u001b[0;36m<module>\u001b[0;34m\u001b[0m\n\u001b[1;32m      1\u001b[0m \u001b[0;32mfor\u001b[0m \u001b[0mj\u001b[0m \u001b[0;32min\u001b[0m \u001b[0mrange\u001b[0m\u001b[0;34m(\u001b[0m\u001b[0;36m2000\u001b[0m\u001b[0;34m)\u001b[0m\u001b[0;34m:\u001b[0m\u001b[0;34m\u001b[0m\u001b[0;34m\u001b[0m\u001b[0m\n\u001b[0;32m----> 2\u001b[0;31m     \u001b[0maction\u001b[0m \u001b[0;34m=\u001b[0m \u001b[0magent\u001b[0m\u001b[0;34m.\u001b[0m\u001b[0mact\u001b[0m\u001b[0;34m(\u001b[0m\u001b[0mstate\u001b[0m\u001b[0;34m)\u001b[0m\u001b[0;34m\u001b[0m\u001b[0;34m\u001b[0m\u001b[0m\n\u001b[0m\u001b[1;32m      3\u001b[0m     \u001b[0menv_info\u001b[0m \u001b[0;34m=\u001b[0m \u001b[0menv\u001b[0m\u001b[0;34m.\u001b[0m\u001b[0mstep\u001b[0m\u001b[0;34m(\u001b[0m\u001b[0maction\u001b[0m\u001b[0;34m)\u001b[0m\u001b[0;34m[\u001b[0m\u001b[0mbrain_name\u001b[0m\u001b[0;34m]\u001b[0m\u001b[0;34m\u001b[0m\u001b[0;34m\u001b[0m\u001b[0m\n\u001b[1;32m      4\u001b[0m     \u001b[0mdone\u001b[0m \u001b[0;34m=\u001b[0m \u001b[0menv_info\u001b[0m\u001b[0;34m.\u001b[0m\u001b[0mlocal_done\u001b[0m\u001b[0;34m[\u001b[0m\u001b[0;36m0\u001b[0m\u001b[0;34m]\u001b[0m\u001b[0;34m\u001b[0m\u001b[0;34m\u001b[0m\u001b[0m\n\u001b[1;32m      5\u001b[0m     \u001b[0;32mif\u001b[0m \u001b[0mdone\u001b[0m\u001b[0;34m:\u001b[0m\u001b[0;34m\u001b[0m\u001b[0;34m\u001b[0m\u001b[0m\n",
      "\u001b[0;31mNameError\u001b[0m: name 'state' is not defined"
     ]
    }
   ],
   "source": [
    "# load the weights from file\n",
    "agent.qnetwork_local.load_state_dict(torch.load('checkpoint.pth'))\n",
    "\n",
    "for i in range(3):\n",
    "    state = env.reset()\n",
    "    for j in range(200):\n",
    "        action = agent.act(state)\n",
    "        env.render()\n",
    "        state, reward, done, _ = env.step(action)\n",
    "        if done:\n",
    "            break \n",
    "            \n",
    "env.close()"
   ]
  },
  {
   "cell_type": "code",
   "execution_count": null,
   "metadata": {},
   "outputs": [],
   "source": []
  }
 ],
 "metadata": {
  "kernelspec": {
   "display_name": "drlnd",
   "language": "python",
   "name": "drlnd"
  },
  "language_info": {
   "codemirror_mode": {
    "name": "ipython",
    "version": 3
   },
   "file_extension": ".py",
   "mimetype": "text/x-python",
   "name": "python",
   "nbconvert_exporter": "python",
   "pygments_lexer": "ipython3",
   "version": "3.6.15"
  },
  "toc": {
   "base_numbering": 1,
   "nav_menu": {},
   "number_sections": false,
   "sideBar": true,
   "skip_h1_title": false,
   "title_cell": "Table of Contents",
   "title_sidebar": "Contents",
   "toc_cell": false,
   "toc_position": {},
   "toc_section_display": true,
   "toc_window_display": false
  }
 },
 "nbformat": 4,
 "nbformat_minor": 2
}
