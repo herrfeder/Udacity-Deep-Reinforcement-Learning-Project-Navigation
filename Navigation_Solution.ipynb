{
 "cells": [
  {
   "cell_type": "markdown",
   "metadata": {},
   "source": [
    "# 1 Initialization of Environment\n",
    "## Import of libraries and own DQN Agent"
   ]
  },
  {
   "cell_type": "code",
   "execution_count": 1,
   "metadata": {},
   "outputs": [],
   "source": [
    "from unityagents import UnityEnvironment\n",
    "from collections import deque\n",
    "import numpy as np\n",
    "import torch\n",
    "from matplotlib import pyplot as plt\n",
    "\n",
    "from dqn_agent import Agent"
   ]
  },
  {
   "cell_type": "markdown",
   "metadata": {},
   "source": [
    "## Start of Unity Banana Environment and Initialization of DQN Agent"
   ]
  },
  {
   "cell_type": "code",
   "execution_count": 2,
   "metadata": {},
   "outputs": [
    {
     "name": "stderr",
     "output_type": "stream",
     "text": [
      "INFO:unityagents:\n",
      "'Academy' started successfully!\n",
      "Unity Academy name: Academy\n",
      "        Number of Brains: 1\n",
      "        Number of External Brains : 1\n",
      "        Lesson number : 0\n",
      "        Reset Parameters :\n",
      "\t\t\n",
      "Unity brain name: BananaBrain\n",
      "        Number of Visual Observations (per agent): 0\n",
      "        Vector Observation space type: continuous\n",
      "        Vector Observation space size (per agent): 37\n",
      "        Number of stacked Vector Observation: 1\n",
      "        Vector Action space type: discrete\n",
      "        Vector Action space size (per agent): 4\n",
      "        Vector Action descriptions: , , , \n"
     ]
    }
   ],
   "source": [
    "env = UnityEnvironment(file_name=\"Banana_Linux/Banana.x86_64\")\n",
    "brain_name = env.brain_names[0]\n",
    "brain = env.brains[brain_name]\n",
    "\n",
    "action_size = brain.vector_action_space_size\n",
    "state_size = brain.vector_observation_space_size\n",
    "\n",
    "agent = Agent(state_size=state_size, action_size=action_size, seed=0)"
   ]
  },
  {
   "cell_type": "markdown",
   "metadata": {},
   "source": [
    "# 2 Train the Agent by running Banana Collection Environment"
   ]
  },
  {
   "cell_type": "code",
   "execution_count": 3,
   "metadata": {},
   "outputs": [
    {
     "name": "stdout",
     "output_type": "stream",
     "text": [
      "Episode 25\tAverage Score: 1.08\n",
      "Episode 50\tAverage Score: 5.96\n",
      "Episode 75\tAverage Score: 11.56\n",
      "Episode 100\tAverage Score: 21.68\n",
      "Episode 125\tAverage Score: 45.16\n",
      "Episode 150\tAverage Score: 85.34\n",
      "Episode 175\tAverage Score: 156.30\n",
      "Episode 200\tAverage Score: 256.90\n",
      "Episode 225\tAverage Score: 386.68\n",
      "Episode 250\tAverage Score: 544.63\n",
      "Episode 275\tAverage Score: 726.20\n",
      "Episode 300\tAverage Score: 940.76\n",
      "Episode 325\tAverage Score: 1189.69\n",
      "Episode 350\tAverage Score: 1468.45\n",
      "Episode 375\tAverage Score: 1760.30\n",
      "\n",
      "Environment solved in 370 episodes!\tAverage Score: 2002.67\n"
     ]
    }
   ],
   "source": [
    "def dqn(n_episodes=2000, max_t=1000, eps_start=1.0, eps_end=0.01, eps_decay=0.990):\n",
    "    \"\"\"Deep Q-Learning.\n",
    "    \n",
    "    Params\n",
    "    ======\n",
    "        n_episodes (int): maximum number of training episodes\n",
    "        max_t (int): maximum number of timesteps per episode\n",
    "        eps_start (float): starting value of epsilon, for epsilon-greedy action selection\n",
    "        eps_end (float): minimum value of epsilon\n",
    "        eps_decay (float): multiplicative factor (per episode) for decreasing epsilon\n",
    "    \"\"\"\n",
    "    scores = []                        # list containing scores from each episode\n",
    "    scores_window = deque(maxlen=100)  # last 100 scores\n",
    "    eps = eps_start                    # initialize epsilon\n",
    "    score = 0\n",
    "    for i_episode in range(1, n_episodes+1):\n",
    "        state = env.reset()\n",
    "        state = state[\"BananaBrain\"].vector_observations\n",
    "        for t in range(max_t):\n",
    "            # get the next action\n",
    "            action = agent.act(state, eps)\n",
    "            # do the next action in the environment\n",
    "            env_info = env.step(action)[brain_name]\n",
    "            # get the resulting states from the environment\n",
    "            next_state = env_info.vector_observations[0]\n",
    "            # collect the reward from the last action\n",
    "            reward = env_info.rewards[0]\n",
    "            # check if our episode is done\n",
    "            done = env_info.local_done[0]\n",
    "            # feed our current observation back to the QNetwork\n",
    "            agent.step(state, action, reward, next_state, done)\n",
    "            state = next_state\n",
    "            score += reward\n",
    "            if done:\n",
    "                break \n",
    "        scores_window.append(score)       # save most recent score into the window of last 100 scores\n",
    "        scores.append(score)              # save most recent score\n",
    "        eps = max(eps_end, eps_decay*eps) # decrease epsilon\n",
    "        if i_episode % 25 == 0:\n",
    "            print('\\rEpisode {}\\tAverage Score: {:.2f}'.format(i_episode, np.mean(scores_window)))\n",
    "        if np.mean(scores_window)>=2000.0:\n",
    "            print('\\nEnvironment solved in {:d} episodes!\\tAverage Score: {:.2f}'.format(i_episode-25, np.mean(scores_window)))\n",
    "            agent.save_checkpoint(\"simple_dqn.pth\")\n",
    "            break\n",
    "    return scores\n",
    "\n",
    "scores = dqn()"
   ]
  },
  {
   "cell_type": "code",
   "execution_count": 4,
   "metadata": {},
   "outputs": [
    {
     "data": {
      "image/png": "[encoded data removed]",
      "text/plain": [
       "<Figure size 432x288 with 1 Axes>"
      ]
     },
     "metadata": {
      "needs_background": "light"
     },
     "output_type": "display_data"
    }
   ],
   "source": [
    "# plot the scores\n",
    "fig = plt.figure()\n",
    "ax = fig.add_subplot(111)\n",
    "plt.plot(np.arange(len(scores)), scores)\n",
    "plt.ylabel('Score')\n",
    "plt.xlabel('Episode #')\n",
    "plt.title(\"BananaBrain Result with \\n eps_decay=0.999\\n 6-Layer Linear QNetwork\")\n",
    "plt.show()"
   ]
  },
  {
   "cell_type": "markdown",
   "metadata": {},
   "source": [
    "# 3 Check trained Models"
   ]
  },
  {
   "cell_type": "markdown",
   "metadata": {},
   "source": [
    "To check the four resulting models, I will give each model another hundred episodes to show the performance of each.\n",
    "Moreover I want to check out, how big is the proportion of timesteps, where the Agent gets trapped inbetween two states."
   ]
  },
  {
   "cell_type": "code",
   "execution_count": 3,
   "metadata": {},
   "outputs": [],
   "source": [
    "from statistics import mean "
   ]
  },
  {
   "cell_type": "code",
   "execution_count": 4,
   "metadata": {},
   "outputs": [],
   "source": [
    "action_size = brain.vector_action_space_size\n",
    "state_size = brain.vector_observation_space_size"
   ]
  },
  {
   "cell_type": "code",
   "execution_count": 5,
   "metadata": {},
   "outputs": [],
   "source": [
    "def count_trapped_actions(action_list):\n",
    "    \"\"\"Count the length of agent movement where it get's trapped inbetween two states.\n",
    "    Outputs the number of consecutively actions without any development.\n",
    "    \n",
    "    Params\n",
    "    ======\n",
    "        action_list (list): list of actions from one episode\n",
    "    \"\"\"\n",
    "    repetition_count = 0\n",
    "    element_list = []\n",
    "    for el in reversed(action_list):\n",
    "        element_list.append(el)\n",
    "        if len(element_list) > 1:\n",
    "            if len(set(element_list)) == 2:\n",
    "                if element_list[-1] != element_list[-2]:\n",
    "                    repetition_count += 1\n",
    "                else:\n",
    "                    break\n",
    "            else:\n",
    "                break\n",
    "    return repetition_count"
   ]
  },
  {
   "cell_type": "code",
   "execution_count": 6,
   "metadata": {},
   "outputs": [
    {
     "name": "stdout",
     "output_type": "stream",
     "text": [
      "Model simple_dqn_three_layers_0990.pth\n",
      "Mean Trapped Actions: 120.4\n",
      "Mean Scores: 9.54\n",
      "\n",
      "Model simple_dqn_three_layers_0999.pth\n",
      "Mean Trapped Actions: 80.57\n",
      "Mean Scores: 11.01\n",
      "\n",
      "Model simple_dqn_six_layers_0990.pth\n",
      "Mean Trapped Actions: 135.82\n",
      "Mean Scores: 8.55\n",
      "\n",
      "Model simple_dqn_six_layers_0999.pth\n",
      "Mean Trapped Actions: 164.05\n",
      "Mean Scores: 6.6\n",
      "\n"
     ]
    }
   ],
   "source": [
    "model_list = [\n",
    "    (\"simple_dqn_three_layers_0990.pth\", \"flat\"),\n",
    "    (\"simple_dqn_three_layers_0999.pth\", \"flat\"),\n",
    "    (\"simple_dqn_six_layers_0990.pth\", \"deep\"),\n",
    "    (\"simple_dqn_six_layers_0999.pth\", \"deep\")\n",
    "]\n",
    "\n",
    "for model_checkpoint in model_list:\n",
    "    agent = Agent(state_size=state_size, action_size=action_size, seed=0, model=model_checkpoint[1])\n",
    "    agent.load_checkpoint(model_checkpoint[0])\n",
    "    mean_trapped_repetitions = []\n",
    "    mean_scores = []\n",
    "\n",
    "    for episode in range(100):\n",
    "        env_info = env.reset(train_mode=True)[brain_name]\n",
    "        state = env_info.vector_observations[0]            # get the current state\n",
    "        score = 0                                          # initialize the score\n",
    "        action_list = []\n",
    "        while True:\n",
    "            action = agent.act(state, 0.0)                 # select an action\n",
    "            action_list.append(action)\n",
    "            env_info = env.step(action)[brain_name]        # send the action to the environment\n",
    "            next_state = env_info.vector_observations[0]   # get the next state\n",
    "            reward = env_info.rewards[0]                   # get the reward\n",
    "            done = env_info.local_done[0]                  # see if episode has finished\n",
    "            score += reward                                # update the score\n",
    "            state = next_state                             # roll over the state to next time step\n",
    "            if done:                                       # exit loop if episode finished\n",
    "                break\n",
    "        trapped_repetitions = count_trapped_actions(action_list)\n",
    "        mean_trapped_repetitions.append(trapped_repetitions)\n",
    "        mean_scores.append(score)\n",
    "    # calculate the mean over the reward scores and the number of trapped repeations\n",
    "    print(f\"Model {model_checkpoint[0]}\")\n",
    "    print(f\"Mean Trapped Actions: {mean(mean_trapped_repetitions)}\")\n",
    "    print(f\"Mean Scores: {mean(mean_scores)}\\n\")"
   ]
  },
  {
   "cell_type": "markdown",
   "metadata": {},
   "source": [
    "<div class=\"alert alert-block alert-danger\">\n",
    "We can see, that a deeper linear architecture is influencing the resulting Network in a very unfavorable way.\n",
    "We can also see, that increasing the Epsilon Decay factor, which leads to more Exploration over Exploitation, will decrease the performance of the deeper architecture even more.</div>\n",
    "\n",
    "<div class=\"alert alert-block alert-success\">\n",
    "The flat architector improves it's performance by increasing the Epsilon Decay Factor which seems plausible too me, as increased intensity of Exploration should decrease the chance of getting trapped inbetween two states</div>\n",
    "\n",
    "\n"
   ]
  },
  {
   "cell_type": "code",
   "execution_count": null,
   "metadata": {},
   "outputs": [],
   "source": []
  }
 ],
 "metadata": {
  "kernelspec": {
   "display_name": "drlnd",
   "language": "python",
   "name": "drlnd"
  },
  "language_info": {
   "codemirror_mode": {
    "name": "ipython",
    "version": 3
   },
   "file_extension": ".py",
   "mimetype": "text/x-python",
   "name": "python",
   "nbconvert_exporter": "python",
   "pygments_lexer": "ipython3",
   "version": "3.6.15"
  },
  "toc": {
   "base_numbering": 1,
   "nav_menu": {},
   "number_sections": false,
   "sideBar": true,
   "skip_h1_title": false,
   "title_cell": "Table of Contents",
   "title_sidebar": "Contents",
   "toc_cell": false,
   "toc_position": {},
   "toc_section_display": true,
   "toc_window_display": false
  }
 },
 "nbformat": 4,
 "nbformat_minor": 2
}
